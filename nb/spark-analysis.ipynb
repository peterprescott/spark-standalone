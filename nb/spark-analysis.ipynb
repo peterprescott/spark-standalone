{
 "cells": [
  {
   "cell_type": "markdown",
   "metadata": {},
   "source": [
    "# Data Analysis using PySpark"
   ]
  },
  {
   "cell_type": "markdown",
   "metadata": {},
   "source": [
    "## The Spark Cluster"
   ]
  },
  {
   "cell_type": "markdown",
   "metadata": {},
   "source": [
    "### Configuration"
   ]
  },
  {
   "cell_type": "markdown",
   "metadata": {},
   "source": [
    "Docker."
   ]
  },
  {
   "cell_type": "markdown",
   "metadata": {},
   "source": [
    "### Connection"
   ]
  },
  {
   "cell_type": "code",
   "execution_count": 1,
   "metadata": {},
   "outputs": [],
   "source": [
    "from pyspark.sql import SparkSession\n",
    "\n",
    "spark = SparkSession.\\\n",
    "        builder.\\\n",
    "        appName(\"pyspark-notebook\").\\\n",
    "        master(\"spark://spark-master:7077\").\\\n",
    "        config(\"spark.executor.memory\", \"512m\").\\\n",
    "        getOrCreate()"
   ]
  },
  {
   "cell_type": "code",
   "execution_count": 2,
   "metadata": {},
   "outputs": [
    {
     "data": {
      "text/html": [
       "\n",
       "            <div>\n",
       "                <p><b>SparkSession - in-memory</b></p>\n",
       "                \n",
       "        <div>\n",
       "            <p><b>SparkContext</b></p>\n",
       "\n",
       "            <p><a href=\"http://d00ec64b9a0f:4040\">Spark UI</a></p>\n",
       "\n",
       "            <dl>\n",
       "              <dt>Version</dt>\n",
       "                <dd><code>v3.0.0</code></dd>\n",
       "              <dt>Master</dt>\n",
       "                <dd><code>spark://spark-master:7077</code></dd>\n",
       "              <dt>AppName</dt>\n",
       "                <dd><code>pyspark-notebook</code></dd>\n",
       "            </dl>\n",
       "        </div>\n",
       "        \n",
       "            </div>\n",
       "        "
      ],
      "text/plain": [
       "<pyspark.sql.session.SparkSession at 0x7f618842bd68>"
      ]
     },
     "execution_count": 2,
     "metadata": {},
     "output_type": "execute_result"
    }
   ],
   "source": [
    "spark"
   ]
  },
  {
   "cell_type": "code",
   "execution_count": 3,
   "metadata": {},
   "outputs": [],
   "source": [
    "## The Data"
   ]
  },
  {
   "cell_type": "code",
   "execution_count": 3,
   "metadata": {},
   "outputs": [],
   "source": [
    "# load the data\n",
    "\n",
    "data = spark.read.csv(path='../data/covid19.csv', header=True)"
   ]
  },
  {
   "cell_type": "code",
   "execution_count": 5,
   "metadata": {},
   "outputs": [
    {
     "name": "stdout",
     "output_type": "stream",
     "text": [
      "+-------------+--------+----------+-----------+---------+------------+----------+\n",
      "|    continent|location|      date|total_cases|new_cases|total_deaths|new_deaths|\n",
      "+-------------+--------+----------+-----------+---------+------------+----------+\n",
      "|North America|   Aruba|2020-03-13|          2|        2|        null|         0|\n",
      "|North America|   Aruba|2020-03-19|       null|     null|        null|      null|\n",
      "|North America|   Aruba|2020-03-20|          4|        2|        null|         0|\n",
      "|North America|   Aruba|2020-03-21|       null|     null|        null|      null|\n",
      "|North America|   Aruba|2020-03-22|       null|     null|        null|      null|\n",
      "|North America|   Aruba|2020-03-23|       null|     null|        null|      null|\n",
      "|North America|   Aruba|2020-03-24|         12|        8|        null|         0|\n",
      "|North America|   Aruba|2020-03-25|         17|        5|        null|         0|\n",
      "|North America|   Aruba|2020-03-26|         19|        2|        null|         0|\n",
      "|North America|   Aruba|2020-03-27|         28|        9|        null|         0|\n",
      "|North America|   Aruba|2020-03-28|         28|        0|        null|         0|\n",
      "|North America|   Aruba|2020-03-29|         28|        0|        null|         0|\n",
      "|North America|   Aruba|2020-03-30|         50|       22|        null|         0|\n",
      "|North America|   Aruba|2020-03-31|       null|     null|        null|      null|\n",
      "|North America|   Aruba|2020-04-01|         55|        5|        null|         0|\n",
      "|North America|   Aruba|2020-04-02|         55|        0|        null|         0|\n",
      "|North America|   Aruba|2020-04-03|         60|        5|        null|         0|\n",
      "|North America|   Aruba|2020-04-04|         62|        2|        null|         0|\n",
      "|North America|   Aruba|2020-04-05|         64|        2|        null|         0|\n",
      "|North America|   Aruba|2020-04-06|         64|        0|        null|         0|\n",
      "+-------------+--------+----------+-----------+---------+------------+----------+\n",
      "only showing top 20 rows\n",
      "\n",
      "Table has 53087 rows\n",
      "root\n",
      " |-- continent: string (nullable = true)\n",
      " |-- location: string (nullable = true)\n",
      " |-- date: string (nullable = true)\n",
      " |-- total_cases: string (nullable = true)\n",
      " |-- new_cases: string (nullable = true)\n",
      " |-- total_deaths: string (nullable = true)\n",
      " |-- new_deaths: string (nullable = true)\n",
      "\n"
     ]
    }
   ],
   "source": [
    "# confirm data has been loaded successfully \n",
    "# by showing table and printing schema\n",
    "\n",
    "data.show()\n",
    "print(f'Table has {data.count()} rows')\n",
    "data.printSchema()"
   ]
  },
  {
   "cell_type": "code",
   "execution_count": 6,
   "metadata": {},
   "outputs": [],
   "source": [
    "# use spark RDD transformation `filter` function to filter null values \n",
    "\n",
    "# first transform to RDD\n",
    "\n",
    "rdd = data.rdd"
   ]
  },
  {
   "cell_type": "code",
   "execution_count": 7,
   "metadata": {},
   "outputs": [],
   "source": [
    "filtered_rdd = rdd.filter(lambda row: None not in row.asDict().values())"
   ]
  },
  {
   "cell_type": "code",
   "execution_count": 9,
   "metadata": {},
   "outputs": [],
   "source": [
    "filtered_df = filtered_rdd.toDF()"
   ]
  },
  {
   "cell_type": "code",
   "execution_count": 11,
   "metadata": {},
   "outputs": [
    {
     "name": "stdout",
     "output_type": "stream",
     "text": [
      "+-------------+--------+----------+-----------+---------+------------+----------+\n",
      "|    continent|location|      date|total_cases|new_cases|total_deaths|new_deaths|\n",
      "+-------------+--------+----------+-----------+---------+------------+----------+\n",
      "|North America|   Aruba|2020-04-16|         93|        1|           1|         1|\n",
      "|North America|   Aruba|2020-04-17|         95|        2|           1|         0|\n",
      "|North America|   Aruba|2020-04-18|         96|        1|           2|         1|\n",
      "|North America|   Aruba|2020-04-19|         96|        0|           2|         0|\n",
      "|North America|   Aruba|2020-04-20|         97|        1|           2|         0|\n",
      "|North America|   Aruba|2020-04-21|         97|        0|           2|         0|\n",
      "|North America|   Aruba|2020-04-22|         97|        0|           2|         0|\n",
      "|North America|   Aruba|2020-04-23|        100|        3|           2|         0|\n",
      "|North America|   Aruba|2020-04-24|        100|        0|           2|         0|\n",
      "|North America|   Aruba|2020-04-25|        100|        0|           2|         0|\n",
      "|North America|   Aruba|2020-04-26|        100|        0|           2|         0|\n",
      "|North America|   Aruba|2020-04-27|        100|        0|           2|         0|\n",
      "|North America|   Aruba|2020-04-28|        100|        0|           2|         0|\n",
      "|North America|   Aruba|2020-04-29|        100|        0|           2|         0|\n",
      "|North America|   Aruba|2020-04-30|        100|        0|           2|         0|\n",
      "|North America|   Aruba|2020-05-01|        100|        0|           2|         0|\n",
      "|North America|   Aruba|2020-05-02|        100|        0|           2|         0|\n",
      "|North America|   Aruba|2020-05-03|        100|        0|           2|         0|\n",
      "|North America|   Aruba|2020-05-04|        100|        0|           2|         0|\n",
      "|North America|   Aruba|2020-05-05|        100|        0|           2|         0|\n",
      "+-------------+--------+----------+-----------+---------+------------+----------+\n",
      "only showing top 20 rows\n",
      "\n",
      "Table has 39974 rows\n"
     ]
    }
   ],
   "source": [
    "filtered_df.show()\n",
    "print(f'Table has {filtered_df.count()} rows')"
   ]
  }
 ],
 "metadata": {
  "kernelspec": {
   "display_name": "Python 3",
   "language": "python",
   "name": "python3"
  },
  "language_info": {
   "codemirror_mode": {
    "name": "ipython",
    "version": 3
   },
   "file_extension": ".py",
   "mimetype": "text/x-python",
   "name": "python",
   "nbconvert_exporter": "python",
   "pygments_lexer": "ipython3",
   "version": "3.7.3"
  }
 },
 "nbformat": 4,
 "nbformat_minor": 4
}
